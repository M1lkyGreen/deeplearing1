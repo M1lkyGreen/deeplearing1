{
 "cells": [
  {
   "attachments": {},
   "cell_type": "markdown",
   "metadata": {},
   "source": [
    "#### 作业六"
   ]
  },
  {
   "attachments": {},
   "cell_type": "markdown",
   "metadata": {},
   "source": [
    "在基于CIFAR-10数据集的模型(ResNet)训练中结合多种(不少于3种)不同的图像增广方法。它能提高测试准确性吗？试分析其原因。"
   ]
  },
  {
   "cell_type": "code",
   "execution_count": 1,
   "metadata": {},
   "outputs": [
    {
     "name": "stdout",
     "output_type": "stream",
     "text": [
      "Downloading https://www.cs.toronto.edu/~kriz/cifar-10-python.tar.gz to ./data\\cifar-10-python.tar.gz\n"
     ]
    },
    {
     "name": "stderr",
     "output_type": "stream",
     "text": [
      "100.0%\n"
     ]
    },
    {
     "name": "stdout",
     "output_type": "stream",
     "text": [
      "Extracting ./data\\cifar-10-python.tar.gz to ./data\n",
      "Files already downloaded and verified\n"
     ]
    },
    {
     "name": "stderr",
     "output_type": "stream",
     "text": [
      "c:\\Users\\94506\\.conda\\envs\\pytorch\\lib\\site-packages\\torchvision\\models\\_utils.py:208: UserWarning: The parameter 'pretrained' is deprecated since 0.13 and may be removed in the future, please use 'weights' instead.\n",
      "  warnings.warn(\n",
      "c:\\Users\\94506\\.conda\\envs\\pytorch\\lib\\site-packages\\torchvision\\models\\_utils.py:223: UserWarning: Arguments other than a weight enum or `None` for 'weights' are deprecated since 0.13 and may be removed in the future. The current behavior is equivalent to passing `weights=None`.\n",
      "  warnings.warn(msg)\n"
     ]
    },
    {
     "name": "stdout",
     "output_type": "stream",
     "text": [
      "[1,   100] loss: 2.043\n",
      "[1,   200] loss: 1.725\n",
      "[1,   300] loss: 1.625\n",
      "[2,   100] loss: 1.488\n",
      "[2,   200] loss: 1.451\n",
      "[2,   300] loss: 1.411\n",
      "[3,   100] loss: 1.314\n",
      "[3,   200] loss: 1.284\n",
      "[3,   300] loss: 1.261\n",
      "[4,   100] loss: 1.196\n",
      "[4,   200] loss: 1.178\n",
      "[4,   300] loss: 1.164\n",
      "[5,   100] loss: 1.112\n",
      "[5,   200] loss: 1.077\n",
      "[5,   300] loss: 1.082\n",
      "[6,   100] loss: 1.019\n",
      "[6,   200] loss: 1.047\n",
      "[6,   300] loss: 1.033\n",
      "[7,   100] loss: 0.981\n",
      "[7,   200] loss: 0.984\n",
      "[7,   300] loss: 0.983\n",
      "[8,   100] loss: 0.937\n",
      "[8,   200] loss: 0.936\n",
      "[8,   300] loss: 0.931\n",
      "[9,   100] loss: 0.919\n",
      "[9,   200] loss: 0.905\n",
      "[9,   300] loss: 0.891\n",
      "[10,   100] loss: 0.874\n",
      "[10,   200] loss: 0.868\n",
      "[10,   300] loss: 0.879\n",
      "[11,   100] loss: 0.848\n",
      "[11,   200] loss: 0.852\n",
      "[11,   300] loss: 0.831\n",
      "[12,   100] loss: 0.819\n",
      "[12,   200] loss: 0.809\n",
      "[12,   300] loss: 0.812\n",
      "[13,   100] loss: 0.789\n",
      "[13,   200] loss: 0.797\n",
      "[13,   300] loss: 0.794\n",
      "[14,   100] loss: 0.764\n",
      "[14,   200] loss: 0.779\n",
      "[14,   300] loss: 0.780\n",
      "[15,   100] loss: 0.754\n",
      "[15,   200] loss: 0.765\n",
      "[15,   300] loss: 0.750\n",
      "[16,   100] loss: 0.719\n",
      "[16,   200] loss: 0.753\n",
      "[16,   300] loss: 0.741\n",
      "[17,   100] loss: 0.722\n",
      "[17,   200] loss: 0.705\n",
      "[17,   300] loss: 0.741\n",
      "[18,   100] loss: 0.695\n",
      "[18,   200] loss: 0.720\n",
      "[18,   300] loss: 0.705\n",
      "[19,   100] loss: 0.685\n",
      "[19,   200] loss: 0.694\n",
      "[19,   300] loss: 0.689\n",
      "[20,   100] loss: 0.675\n",
      "[20,   200] loss: 0.690\n",
      "[20,   300] loss: 0.687\n",
      "Finished Training\n",
      "Accuracy on the test images: 77 %\n"
     ]
    }
   ],
   "source": [
    "import torch\n",
    "import torchvision\n",
    "import torchvision.transforms as transforms\n",
    "import torch.nn as nn\n",
    "import torch.optim as optim\n",
    "import torchvision.models as models\n",
    "\n",
    "# 定义图像增广方法\n",
    "transform_train = transforms.Compose([\n",
    "    transforms.RandomHorizontalFlip(),  # 随机水平翻转\n",
    "    transforms.RandomCrop(32, padding=4),  # 随机裁剪\n",
    "    transforms.RandomRotation(10),  # 随机旋转\n",
    "    transforms.ColorJitter(brightness=0.1, contrast=0.1, saturation=0.1, hue=0.1),  # 色彩抖动\n",
    "    transforms.ToTensor(),  # 转为张量\n",
    "])\n",
    "\n",
    "transform_test = transforms.Compose([\n",
    "    transforms.ToTensor(),\n",
    "])\n",
    "\n",
    "# 加载CIFAR-10数据集\n",
    "trainset = torchvision.datasets.CIFAR10(root='./data', train=True, download=True, transform=transform_train)\n",
    "trainloader = torch.utils.data.DataLoader(trainset, batch_size=128, shuffle=True, num_workers=2)\n",
    "\n",
    "testset = torchvision.datasets.CIFAR10(root='./data', train=False, download=True, transform=transform_test)\n",
    "testloader = torch.utils.data.DataLoader(testset, batch_size=128, shuffle=False, num_workers=2)\n",
    "\n",
    "# 定义ResNet模型\n",
    "resnet = models.resnet18(pretrained=False)\n",
    "num_ftrs = resnet.fc.in_features\n",
    "resnet.fc = nn.Linear(num_ftrs, 10)\n",
    "\n",
    "device = torch.device(\"cuda:0\" if torch.cuda.is_available() else \"cpu\")\n",
    "resnet.to(device)\n",
    "\n",
    "# 定义损失函数和优化器\n",
    "criterion = nn.CrossEntropyLoss()\n",
    "optimizer = optim.SGD(resnet.parameters(), lr=0.01, momentum=0.9, weight_decay=5e-4)\n",
    "\n",
    "# 训练模型\n",
    "for epoch in range(20):  # 训练20个epoch\n",
    "    running_loss = 0.0\n",
    "    for i, data in enumerate(trainloader, 0):\n",
    "        inputs, labels = data[0].to(device), data[1].to(device)\n",
    "        optimizer.zero_grad()\n",
    "        outputs = resnet(inputs)\n",
    "        loss = criterion(outputs, labels)\n",
    "        loss.backward()\n",
    "        optimizer.step()\n",
    "        running_loss += loss.item()\n",
    "        if i % 100 == 99:    # 每100个batch打印一次损失\n",
    "            print('[%d, %5d] loss: %.3f' %\n",
    "                  (epoch + 1, i + 1, running_loss / 100))\n",
    "            running_loss = 0.0\n",
    "\n",
    "print('Finished Training')\n",
    "\n",
    "# 测试模型\n",
    "correct = 0\n",
    "total = 0\n",
    "with torch.no_grad():\n",
    "    for data in testloader:\n",
    "        images, labels = data[0].to(device), data[1].to(device)\n",
    "        outputs = resnet(images)\n",
    "        _, predicted = torch.max(outputs.data, 1)\n",
    "        total += labels.size(0)\n",
    "        correct += (predicted == labels).sum().item()\n",
    "\n",
    "print('Accuracy on the test images: %d %%' % (100 * correct / total))\n"
   ]
  }
 ],
 "metadata": {
  "kernelspec": {
   "display_name": "pytorch",
   "language": "python",
   "name": "python3"
  },
  "language_info": {
   "codemirror_mode": {
    "name": "ipython",
    "version": 3
   },
   "file_extension": ".py",
   "mimetype": "text/x-python",
   "name": "python",
   "nbconvert_exporter": "python",
   "pygments_lexer": "ipython3",
   "version": "3.10.14"
  },
  "orig_nbformat": 4
 },
 "nbformat": 4,
 "nbformat_minor": 2
}
